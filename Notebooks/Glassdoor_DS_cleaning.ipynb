{
  "cells": [
    {
      "cell_type": "markdown",
      "id": "89e74b46",
      "metadata": {
        "id": "89e74b46"
      },
      "source": [
        "# Data Scientist Job (Glassdoor) Data Analysis"
      ]
    },
    {
      "cell_type": "markdown",
      "id": "813b598c",
      "metadata": {
        "id": "813b598c"
      },
      "source": [
        "## Information\n",
        "\n",
        "In this project I scraped job postings related to the position of 'Data Scientist' from www.glassdoor.com. This project is inspired by Ken Jee (https://github.com/PlayingNumbers). I have used a modified version of Ken Jee's selenium code because that code was not working raw for me. Selenium was used because it has small chance of getting caught by glassdoor as it mimics a human kind of interaction. Sending too many request could still increase chances of getting IP block which limited the dataset to only 1000 jobs.\n",
        "\n",
        "With each job, we got the following:\n",
        "\n",
        "- Job title\n",
        "- Salary Estimate\n",
        "- Job Description\n",
        "- Rating\n",
        "- Company\n",
        "- Location\n",
        "- Company Headquarters\n",
        "- Company Size\n",
        "- Company Founded Date\n",
        "- Type of Ownership\n",
        "- Industry\n",
        "- Sector\n",
        "- Revenue\n",
        "- Competitors"
      ]
    },
    {
      "cell_type": "markdown",
      "id": "6ef83d3f",
      "metadata": {
        "id": "6ef83d3f"
      },
      "source": [
        "Columns with value -1 mean data scraping was unsuccessful for that job."
      ]
    },
    {
      "cell_type": "markdown",
      "id": "77d6fa4e",
      "metadata": {
        "id": "77d6fa4e"
      },
      "source": [
        "## About Glassdoor"
      ]
    },
    {
      "cell_type": "code",
      "execution_count": null,
      "id": "308f9a04",
      "metadata": {
        "colab": {
          "base_uri": "https://localhost:8080/",
          "height": 217
        },
        "id": "308f9a04",
        "outputId": "1523f88d-c5ad-4b1e-ef2e-b778afae35d1"
      },
      "outputs": [
        {
          "output_type": "execute_result",
          "data": {
            "image/jpeg": "[encoded data removed]",
            "text/plain": [
              "<IPython.core.display.Image object>"
            ]
          },
          "metadata": {
            "image/jpeg": {
              "width": 400,
              "height": 200
            }
          },
          "execution_count": 1
        }
      ],
      "source": [
        "from IPython.display import Image\n",
        "from IPython.core.display import HTML \n",
        "Image(filename = \"image.jpg\", width=400, height=200)"
      ]
    },
    {
      "cell_type": "markdown",
      "id": "13518d2c",
      "metadata": {
        "id": "13518d2c"
      },
      "source": [
        "Glassdoor is a website where current and former employees anonymously review companies. Glassdoor also allows users to anonymously submit and view salaries as well as search and apply for jobs on its platform.Glassdoor launched its site in 2008 , as a site that “collects company reviews and real salaries from employees of large companies and displays them anonymously for all members to see,” according to TechCrunch. The company then averaged the reported salaries, posting these averages alongside the reviews employees made of the management and culture of the companies they worked for—including some of the larger tech companies like Google and Yahoo. The site also allows the posting of office photographs and other company-relevant media."
      ]
    },
    {
      "cell_type": "markdown",
      "id": "e81fb538",
      "metadata": {
        "id": "e81fb538"
      },
      "source": [
        "## Information about the Dataset\n",
        "1. Job Title: The title of job, eg. Data scientist, junior data scientist, senior data scientist etc.\n",
        "2. Salary Estimate: Range of salary and the source.\n",
        "3. Job Description: Tells us what is expected out of the job title.\n",
        "4. Rating: It gives the rating of the company\n",
        "5. Company Name: Name of the company\n",
        "6. Location: Location of the job\n",
        "7. Headquarters: location of headquarter of the company\n",
        "8. Size: Range of number of employee working in the company\n",
        "9. Founded: Company founded in Year\n",
        "10. Type of ownership: Tells us if the company is private, public or government owned.\n",
        "11. Industry: Industry of the company\n",
        "12. Sector: Sector in which company works\n",
        "13. Revenue: Total revennue of the company per year\n",
        "14. Competitors: Current competitor of the company in the same sector"
      ]
    },
    {
      "cell_type": "markdown",
      "id": "8c8f27e4",
      "metadata": {
        "id": "8c8f27e4"
      },
      "source": [
        "## Credits\n",
        "1. Ken Jee - https://github.com/PlayingNumbers\n",
        "2. Echestare - https://github.com/echestare/001KenJeeFromScratch_DSSalary"
      ]
    },
    {
      "cell_type": "markdown",
      "id": "356e1c7b",
      "metadata": {
        "id": "356e1c7b"
      },
      "source": [
        "## (A) Data cleaning\n",
        "\n",
        "1. Load the file using pandas library\n",
        "2. Cleaning the dataset"
      ]
    },
    {
      "cell_type": "markdown",
      "source": [
        "## 1. Importing libraries and loading the dataset"
      ],
      "metadata": {
        "id": "CMMJ14ZQk9EQ"
      },
      "id": "CMMJ14ZQk9EQ"
    },
    {
      "cell_type": "code",
      "execution_count": null,
      "id": "502cba85",
      "metadata": {
        "id": "502cba85"
      },
      "outputs": [],
      "source": [
        "import pandas as pd\n",
        "import numpy as np\n",
        "import seaborn as sns\n",
        "import matplotlib.pyplot as plt\n",
        "#import plotly"
      ]
    },
    {
      "cell_type": "code",
      "execution_count": null,
      "id": "07703d3d",
      "metadata": {
        "colab": {
          "base_uri": "https://localhost:8080/",
          "height": 565
        },
        "id": "07703d3d",
        "outputId": "48e31494-61fb-421d-cb81-2599397ae5b0"
      },
      "outputs": [
        {
          "output_type": "execute_result",
          "data": {
            "text/html": [
              "\n",
              "  <div id=\"df-ec6b3ec8-7227-4a23-bf39-48496f2c7e16\">\n",
              "    <div class=\"colab-df-container\">\n",
              "      <div>\n",
              "<style scoped>\n",
              "    .dataframe tbody tr th:only-of-type {\n",
              "        vertical-align: middle;\n",
              "    }\n",
              "\n",
              "    .dataframe tbody tr th {\n",
              "        vertical-align: top;\n",
              "    }\n",
              "\n",
              "    .dataframe thead th {\n",
              "        text-align: right;\n",
              "    }\n",
              "</style>\n",
              "<table border=\"1\" class=\"dataframe\">\n",
              "  <thead>\n",
              "    <tr style=\"text-align: right;\">\n",
              "      <th></th>\n",
              "      <th>Unnamed: 0</th>\n",
              "      <th>Job Title</th>\n",
              "      <th>Salary Estimate</th>\n",
              "      <th>Job Description</th>\n",
              "      <th>Rating</th>\n",
              "      <th>Company Name</th>\n",
              "      <th>Location</th>\n",
              "      <th>Headquarters</th>\n",
              "      <th>Size</th>\n",
              "      <th>Founded</th>\n",
              "      <th>Type of ownership</th>\n",
              "      <th>Industry</th>\n",
              "      <th>Sector</th>\n",
              "      <th>Revenue</th>\n",
              "      <th>Competitors</th>\n",
              "    </tr>\n",
              "  </thead>\n",
              "  <tbody>\n",
              "    <tr>\n",
              "      <th>0</th>\n",
              "      <td>0</td>\n",
              "      <td>Data Scientist</td>\n",
              "      <td>$53K-$91K (Glassdoor est.)</td>\n",
              "      <td>Data Scientist\\nLocation: Albuquerque, NM\\nEdu...</td>\n",
              "      <td>3.8</td>\n",
              "      <td>Tecolote Research\\n3.8</td>\n",
              "      <td>Albuquerque, NM</td>\n",
              "      <td>Goleta, CA</td>\n",
              "      <td>501 to 1000 employees</td>\n",
              "      <td>1973</td>\n",
              "      <td>Company - Private</td>\n",
              "      <td>Aerospace &amp; Defense</td>\n",
              "      <td>Aerospace &amp; Defense</td>\n",
              "      <td>$50 to $100 million (USD)</td>\n",
              "      <td>-1</td>\n",
              "    </tr>\n",
              "    <tr>\n",
              "      <th>1</th>\n",
              "      <td>1</td>\n",
              "      <td>Healthcare Data Scientist</td>\n",
              "      <td>$63K-$112K (Glassdoor est.)</td>\n",
              "      <td>What You Will Do:\\n\\nI. General Summary\\n\\nThe...</td>\n",
              "      <td>3.4</td>\n",
              "      <td>University of Maryland Medical System\\n3.4</td>\n",
              "      <td>Linthicum, MD</td>\n",
              "      <td>Baltimore, MD</td>\n",
              "      <td>10000+ employees</td>\n",
              "      <td>1984</td>\n",
              "      <td>Other Organization</td>\n",
              "      <td>Health Care Services &amp; Hospitals</td>\n",
              "      <td>Health Care</td>\n",
              "      <td>$2 to $5 billion (USD)</td>\n",
              "      <td>-1</td>\n",
              "    </tr>\n",
              "    <tr>\n",
              "      <th>2</th>\n",
              "      <td>2</td>\n",
              "      <td>Data Scientist</td>\n",
              "      <td>$80K-$90K (Glassdoor est.)</td>\n",
              "      <td>KnowBe4, Inc. is a high growth information sec...</td>\n",
              "      <td>4.8</td>\n",
              "      <td>KnowBe4\\n4.8</td>\n",
              "      <td>Clearwater, FL</td>\n",
              "      <td>Clearwater, FL</td>\n",
              "      <td>501 to 1000 employees</td>\n",
              "      <td>2010</td>\n",
              "      <td>Company - Private</td>\n",
              "      <td>Security Services</td>\n",
              "      <td>Business Services</td>\n",
              "      <td>$100 to $500 million (USD)</td>\n",
              "      <td>-1</td>\n",
              "    </tr>\n",
              "    <tr>\n",
              "      <th>3</th>\n",
              "      <td>3</td>\n",
              "      <td>Data Scientist</td>\n",
              "      <td>$56K-$97K (Glassdoor est.)</td>\n",
              "      <td>*Organization and Job ID**\\nJob ID: 310709\\n\\n...</td>\n",
              "      <td>3.8</td>\n",
              "      <td>PNNL\\n3.8</td>\n",
              "      <td>Richland, WA</td>\n",
              "      <td>Richland, WA</td>\n",
              "      <td>1001 to 5000 employees</td>\n",
              "      <td>1965</td>\n",
              "      <td>Government</td>\n",
              "      <td>Energy</td>\n",
              "      <td>Oil, Gas, Energy &amp; Utilities</td>\n",
              "      <td>$500 million to $1 billion (USD)</td>\n",
              "      <td>Oak Ridge National Laboratory, National Renewa...</td>\n",
              "    </tr>\n",
              "    <tr>\n",
              "      <th>4</th>\n",
              "      <td>4</td>\n",
              "      <td>Data Scientist</td>\n",
              "      <td>$86K-$143K (Glassdoor est.)</td>\n",
              "      <td>Data Scientist\\nAffinity Solutions / Marketing...</td>\n",
              "      <td>2.9</td>\n",
              "      <td>Affinity Solutions\\n2.9</td>\n",
              "      <td>New York, NY</td>\n",
              "      <td>New York, NY</td>\n",
              "      <td>51 to 200 employees</td>\n",
              "      <td>1998</td>\n",
              "      <td>Company - Private</td>\n",
              "      <td>Advertising &amp; Marketing</td>\n",
              "      <td>Business Services</td>\n",
              "      <td>Unknown / Non-Applicable</td>\n",
              "      <td>Commerce Signals, Cardlytics, Yodlee</td>\n",
              "    </tr>\n",
              "  </tbody>\n",
              "</table>\n",
              "</div>\n",
              "      <button class=\"colab-df-convert\" onclick=\"convertToInteractive('df-ec6b3ec8-7227-4a23-bf39-48496f2c7e16')\"\n",
              "              title=\"Convert this dataframe to an interactive table.\"\n",
              "              style=\"display:none;\">\n",
              "        \n",
              "  <svg xmlns=\"http://www.w3.org/2000/svg\" height=\"24px\"viewBox=\"0 0 24 24\"\n",
              "       width=\"24px\">\n",
              "    <path d=\"M0 0h24v24H0V0z\" fill=\"none\"/>\n",
              "    <path d=\"M18.56 5.44l.94 2.06.94-2.06 2.06-.94-2.06-.94-.94-2.06-.94 2.06-2.06.94zm-11 1L8.5 8.5l.94-2.06 2.06-.94-2.06-.94L8.5 2.5l-.94 2.06-2.06.94zm10 10l.94 2.06.94-2.06 2.06-.94-2.06-.94-.94-2.06-.94 2.06-2.06.94z\"/><path d=\"M17.41 7.96l-1.37-1.37c-.4-.4-.92-.59-1.43-.59-.52 0-1.04.2-1.43.59L10.3 9.45l-7.72 7.72c-.78.78-.78 2.05 0 2.83L4 21.41c.39.39.9.59 1.41.59.51 0 1.02-.2 1.41-.59l7.78-7.78 2.81-2.81c.8-.78.8-2.07 0-2.86zM5.41 20L4 18.59l7.72-7.72 1.47 1.35L5.41 20z\"/>\n",
              "  </svg>\n",
              "      </button>\n",
              "      \n",
              "  <style>\n",
              "    .colab-df-container {\n",
              "      display:flex;\n",
              "      flex-wrap:wrap;\n",
              "      gap: 12px;\n",
              "    }\n",
              "\n",
              "    .colab-df-convert {\n",
              "      background-color: #E8F0FE;\n",
              "      border: none;\n",
              "      border-radius: 50%;\n",
              "      cursor: pointer;\n",
              "      display: none;\n",
              "      fill: #1967D2;\n",
              "      height: 32px;\n",
              "      padding: 0 0 0 0;\n",
              "      width: 32px;\n",
              "    }\n",
              "\n",
              "    .colab-df-convert:hover {\n",
              "      background-color: #E2EBFA;\n",
              "      box-shadow: 0px 1px 2px rgba(60, 64, 67, 0.3), 0px 1px 3px 1px rgba(60, 64, 67, 0.15);\n",
              "      fill: #174EA6;\n",
              "    }\n",
              "\n",
              "    [theme=dark] .colab-df-convert {\n",
              "      background-color: #3B4455;\n",
              "      fill: #D2E3FC;\n",
              "    }\n",
              "\n",
              "    [theme=dark] .colab-df-convert:hover {\n",
              "      background-color: #434B5C;\n",
              "      box-shadow: 0px 1px 3px 1px rgba(0, 0, 0, 0.15);\n",
              "      filter: drop-shadow(0px 1px 2px rgba(0, 0, 0, 0.3));\n",
              "      fill: #FFFFFF;\n",
              "    }\n",
              "  </style>\n",
              "\n",
              "      <script>\n",
              "        const buttonEl =\n",
              "          document.querySelector('#df-ec6b3ec8-7227-4a23-bf39-48496f2c7e16 button.colab-df-convert');\n",
              "        buttonEl.style.display =\n",
              "          google.colab.kernel.accessAllowed ? 'block' : 'none';\n",
              "\n",
              "        async function convertToInteractive(key) {\n",
              "          const element = document.querySelector('#df-ec6b3ec8-7227-4a23-bf39-48496f2c7e16');\n",
              "          const dataTable =\n",
              "            await google.colab.kernel.invokeFunction('convertToInteractive',\n",
              "                                                     [key], {});\n",
              "          if (!dataTable) return;\n",
              "\n",
              "          const docLinkHtml = 'Like what you see? Visit the ' +\n",
              "            '<a target=\"_blank\" href=https://colab.research.google.com/notebooks/data_table.ipynb>data table notebook</a>'\n",
              "            + ' to learn more about interactive tables.';\n",
              "          element.innerHTML = '';\n",
              "          dataTable['output_type'] = 'display_data';\n",
              "          await google.colab.output.renderOutput(dataTable, element);\n",
              "          const docLink = document.createElement('div');\n",
              "          docLink.innerHTML = docLinkHtml;\n",
              "          element.appendChild(docLink);\n",
              "        }\n",
              "      </script>\n",
              "    </div>\n",
              "  </div>\n",
              "  "
            ],
            "text/plain": [
              "   Unnamed: 0  ...                                        Competitors\n",
              "0           0  ...                                                 -1\n",
              "1           1  ...                                                 -1\n",
              "2           2  ...                                                 -1\n",
              "3           3  ...  Oak Ridge National Laboratory, National Renewa...\n",
              "4           4  ...               Commerce Signals, Cardlytics, Yodlee\n",
              "\n",
              "[5 rows x 15 columns]"
            ]
          },
          "metadata": {},
          "execution_count": 3
        }
      ],
      "source": [
        "df = pd.read_csv(\"data_scraped_2020.csv\")\n",
        "df.head(5)"
      ]
    },
    {
      "cell_type": "code",
      "source": [
        "#Dropping the unnamed column\n",
        "df= df.drop([\"Unnamed: 0\"],axis=1)"
      ],
      "metadata": {
        "id": "e4TyV-f6e4jx"
      },
      "id": "e4TyV-f6e4jx",
      "execution_count": null,
      "outputs": []
    },
    {
      "cell_type": "markdown",
      "id": "ad17464f",
      "metadata": {
        "id": "ad17464f"
      },
      "source": [
        "## 2. Parsing numeric data out of salary column as Lower salary, Upper Salary and Average Salary\n"
      ]
    },
    {
      "cell_type": "code",
      "execution_count": null,
      "id": "babdb8fa",
      "metadata": {
        "id": "babdb8fa"
      },
      "outputs": [],
      "source": [
        "# We have few -1 values in the Salary Estimate column. Lets try to remove those -1 values first. \n",
        "#Remember -1 is because the scrapper was not able to get the value for it or it was not even present on glasdoor.\n",
        "\n",
        "df[\"Salary Estimate\"] = df[\"Salary Estimate\"].replace(\"-1\",np.nan)\n",
        "df = df.dropna()"
      ]
    },
    {
      "cell_type": "code",
      "source": [
        "#Resetting the index.\n",
        "df = df.reset_index()"
      ],
      "metadata": {
        "id": "fzmO3VrQPXSM"
      },
      "id": "fzmO3VrQPXSM",
      "execution_count": null,
      "outputs": []
    },
    {
      "cell_type": "code",
      "source": [
        "#Next we separate the hourly salary and employer provided salary from the Salary estimate Column, to be used later\n",
        "df[\"Hourly\"]= df[\"Salary Estimate\"].apply(lambda x: 1 if \"per hour\" in x.lower() else 0)\n",
        "df[\"Employer provided\"]= df[\"Salary Estimate\"].apply(lambda x: 1 if \"employer provided\" in x.lower() else 0)"
      ],
      "metadata": {
        "id": "JwVgv6b2MjN1"
      },
      "id": "JwVgv6b2MjN1",
      "execution_count": null,
      "outputs": []
    },
    {
      "cell_type": "code",
      "execution_count": null,
      "id": "e86191c0",
      "metadata": {
        "id": "e86191c0"
      },
      "outputs": [],
      "source": [
        "# Lets correct Salary Estimate column\n",
        "# First try to remove the source of salary\n",
        "salary = df[\"Salary Estimate\"].apply(lambda x: x.split(\"(\")[0])"
      ]
    },
    {
      "cell_type": "code",
      "source": [
        "salary"
      ],
      "metadata": {
        "colab": {
          "base_uri": "https://localhost:8080/"
        },
        "id": "SWkpGVijEzfV",
        "outputId": "7b96d6ac-d719-4a6c-a3e9-0238db514d69"
      },
      "id": "SWkpGVijEzfV",
      "execution_count": null,
      "outputs": [
        {
          "output_type": "execute_result",
          "data": {
            "text/plain": [
              "0       $53K-$91K \n",
              "1      $63K-$112K \n",
              "2       $80K-$90K \n",
              "3       $56K-$97K \n",
              "4      $86K-$143K \n",
              "          ...     \n",
              "737    $58K-$111K \n",
              "738    $72K-$133K \n",
              "739     $56K-$91K \n",
              "740    $95K-$160K \n",
              "741    $61K-$126K \n",
              "Name: Salary Estimate, Length: 742, dtype: object"
            ]
          },
          "metadata": {},
          "execution_count": 9
        }
      ]
    },
    {
      "cell_type": "code",
      "source": [
        "#                             OR\n",
        "#salary = df[\"Salary Estimate\"].str.split(\"(\",1,expand=True)\n",
        "#salary[0]"
      ],
      "metadata": {
        "id": "DP5emFyvE0vf"
      },
      "id": "DP5emFyvE0vf",
      "execution_count": null,
      "outputs": []
    },
    {
      "cell_type": "code",
      "source": [
        "#Now, we remove the K, $ sign, per hour and employer provided salary strings\n",
        "salary = salary.str.replace(\"K\",\"\")\n",
        "salary = salary.str.replace(\"$\",\"\")"
      ],
      "metadata": {
        "id": "Aw-AVnzEF7kc"
      },
      "id": "Aw-AVnzEF7kc",
      "execution_count": null,
      "outputs": []
    },
    {
      "cell_type": "code",
      "source": [
        "salary = salary.apply(lambda x: x.lower().replace(\"per hour\",\"\"))\n",
        "salary = salary.apply(lambda x: x.lower().replace(\"employer provided salary:\",\"\"))\n"
      ],
      "metadata": {
        "id": "4kNT86TWGaA7"
      },
      "id": "4kNT86TWGaA7",
      "execution_count": null,
      "outputs": []
    },
    {
      "cell_type": "code",
      "source": [
        "salary"
      ],
      "metadata": {
        "colab": {
          "base_uri": "https://localhost:8080/"
        },
        "id": "s1Kc9E8KNjyG",
        "outputId": "f21c4962-c839-42bf-a6f5-0c772a9f6ca5"
      },
      "id": "s1Kc9E8KNjyG",
      "execution_count": null,
      "outputs": [
        {
          "output_type": "execute_result",
          "data": {
            "text/plain": [
              "0       53-91 \n",
              "1      63-112 \n",
              "2       80-90 \n",
              "3       56-97 \n",
              "4      86-143 \n",
              "        ...   \n",
              "737    58-111 \n",
              "738    72-133 \n",
              "739     56-91 \n",
              "740    95-160 \n",
              "741    61-126 \n",
              "Name: Salary Estimate, Length: 742, dtype: object"
            ]
          },
          "metadata": {},
          "execution_count": 13
        }
      ]
    },
    {
      "cell_type": "code",
      "source": [
        "#Here, we split the salary into lower and upper salary\n",
        "sal = salary.str.split(\"-\",1,expand=True).rename(columns=({0:\"Lower\",1:\"Upper\"}))\n",
        "sal"
      ],
      "metadata": {
        "colab": {
          "base_uri": "https://localhost:8080/",
          "height": 424
        },
        "id": "DAvLQU1mTjf3",
        "outputId": "5e65fcce-584a-49fb-da12-b536410de779"
      },
      "id": "DAvLQU1mTjf3",
      "execution_count": null,
      "outputs": [
        {
          "output_type": "execute_result",
          "data": {
            "text/html": [
              "\n",
              "  <div id=\"df-1f3ea3a4-06e1-4d1c-b226-916151a35340\">\n",
              "    <div class=\"colab-df-container\">\n",
              "      <div>\n",
              "<style scoped>\n",
              "    .dataframe tbody tr th:only-of-type {\n",
              "        vertical-align: middle;\n",
              "    }\n",
              "\n",
              "    .dataframe tbody tr th {\n",
              "        vertical-align: top;\n",
              "    }\n",
              "\n",
              "    .dataframe thead th {\n",
              "        text-align: right;\n",
              "    }\n",
              "</style>\n",
              "<table border=\"1\" class=\"dataframe\">\n",
              "  <thead>\n",
              "    <tr style=\"text-align: right;\">\n",
              "      <th></th>\n",
              "      <th>Lower</th>\n",
              "      <th>Upper</th>\n",
              "    </tr>\n",
              "  </thead>\n",
              "  <tbody>\n",
              "    <tr>\n",
              "      <th>0</th>\n",
              "      <td>53</td>\n",
              "      <td>91</td>\n",
              "    </tr>\n",
              "    <tr>\n",
              "      <th>1</th>\n",
              "      <td>63</td>\n",
              "      <td>112</td>\n",
              "    </tr>\n",
              "    <tr>\n",
              "      <th>2</th>\n",
              "      <td>80</td>\n",
              "      <td>90</td>\n",
              "    </tr>\n",
              "    <tr>\n",
              "      <th>3</th>\n",
              "      <td>56</td>\n",
              "      <td>97</td>\n",
              "    </tr>\n",
              "    <tr>\n",
              "      <th>4</th>\n",
              "      <td>86</td>\n",
              "      <td>143</td>\n",
              "    </tr>\n",
              "    <tr>\n",
              "      <th>...</th>\n",
              "      <td>...</td>\n",
              "      <td>...</td>\n",
              "    </tr>\n",
              "    <tr>\n",
              "      <th>737</th>\n",
              "      <td>58</td>\n",
              "      <td>111</td>\n",
              "    </tr>\n",
              "    <tr>\n",
              "      <th>738</th>\n",
              "      <td>72</td>\n",
              "      <td>133</td>\n",
              "    </tr>\n",
              "    <tr>\n",
              "      <th>739</th>\n",
              "      <td>56</td>\n",
              "      <td>91</td>\n",
              "    </tr>\n",
              "    <tr>\n",
              "      <th>740</th>\n",
              "      <td>95</td>\n",
              "      <td>160</td>\n",
              "    </tr>\n",
              "    <tr>\n",
              "      <th>741</th>\n",
              "      <td>61</td>\n",
              "      <td>126</td>\n",
              "    </tr>\n",
              "  </tbody>\n",
              "</table>\n",
              "<p>742 rows × 2 columns</p>\n",
              "</div>\n",
              "      <button class=\"colab-df-convert\" onclick=\"convertToInteractive('df-1f3ea3a4-06e1-4d1c-b226-916151a35340')\"\n",
              "              title=\"Convert this dataframe to an interactive table.\"\n",
              "              style=\"display:none;\">\n",
              "        \n",
              "  <svg xmlns=\"http://www.w3.org/2000/svg\" height=\"24px\"viewBox=\"0 0 24 24\"\n",
              "       width=\"24px\">\n",
              "    <path d=\"M0 0h24v24H0V0z\" fill=\"none\"/>\n",
              "    <path d=\"M18.56 5.44l.94 2.06.94-2.06 2.06-.94-2.06-.94-.94-2.06-.94 2.06-2.06.94zm-11 1L8.5 8.5l.94-2.06 2.06-.94-2.06-.94L8.5 2.5l-.94 2.06-2.06.94zm10 10l.94 2.06.94-2.06 2.06-.94-2.06-.94-.94-2.06-.94 2.06-2.06.94z\"/><path d=\"M17.41 7.96l-1.37-1.37c-.4-.4-.92-.59-1.43-.59-.52 0-1.04.2-1.43.59L10.3 9.45l-7.72 7.72c-.78.78-.78 2.05 0 2.83L4 21.41c.39.39.9.59 1.41.59.51 0 1.02-.2 1.41-.59l7.78-7.78 2.81-2.81c.8-.78.8-2.07 0-2.86zM5.41 20L4 18.59l7.72-7.72 1.47 1.35L5.41 20z\"/>\n",
              "  </svg>\n",
              "      </button>\n",
              "      \n",
              "  <style>\n",
              "    .colab-df-container {\n",
              "      display:flex;\n",
              "      flex-wrap:wrap;\n",
              "      gap: 12px;\n",
              "    }\n",
              "\n",
              "    .colab-df-convert {\n",
              "      background-color: #E8F0FE;\n",
              "      border: none;\n",
              "      border-radius: 50%;\n",
              "      cursor: pointer;\n",
              "      display: none;\n",
              "      fill: #1967D2;\n",
              "      height: 32px;\n",
              "      padding: 0 0 0 0;\n",
              "      width: 32px;\n",
              "    }\n",
              "\n",
              "    .colab-df-convert:hover {\n",
              "      background-color: #E2EBFA;\n",
              "      box-shadow: 0px 1px 2px rgba(60, 64, 67, 0.3), 0px 1px 3px 1px rgba(60, 64, 67, 0.15);\n",
              "      fill: #174EA6;\n",
              "    }\n",
              "\n",
              "    [theme=dark] .colab-df-convert {\n",
              "      background-color: #3B4455;\n",
              "      fill: #D2E3FC;\n",
              "    }\n",
              "\n",
              "    [theme=dark] .colab-df-convert:hover {\n",
              "      background-color: #434B5C;\n",
              "      box-shadow: 0px 1px 3px 1px rgba(0, 0, 0, 0.15);\n",
              "      filter: drop-shadow(0px 1px 2px rgba(0, 0, 0, 0.3));\n",
              "      fill: #FFFFFF;\n",
              "    }\n",
              "  </style>\n",
              "\n",
              "      <script>\n",
              "        const buttonEl =\n",
              "          document.querySelector('#df-1f3ea3a4-06e1-4d1c-b226-916151a35340 button.colab-df-convert');\n",
              "        buttonEl.style.display =\n",
              "          google.colab.kernel.accessAllowed ? 'block' : 'none';\n",
              "\n",
              "        async function convertToInteractive(key) {\n",
              "          const element = document.querySelector('#df-1f3ea3a4-06e1-4d1c-b226-916151a35340');\n",
              "          const dataTable =\n",
              "            await google.colab.kernel.invokeFunction('convertToInteractive',\n",
              "                                                     [key], {});\n",
              "          if (!dataTable) return;\n",
              "\n",
              "          const docLinkHtml = 'Like what you see? Visit the ' +\n",
              "            '<a target=\"_blank\" href=https://colab.research.google.com/notebooks/data_table.ipynb>data table notebook</a>'\n",
              "            + ' to learn more about interactive tables.';\n",
              "          element.innerHTML = '';\n",
              "          dataTable['output_type'] = 'display_data';\n",
              "          await google.colab.output.renderOutput(dataTable, element);\n",
              "          const docLink = document.createElement('div');\n",
              "          docLink.innerHTML = docLinkHtml;\n",
              "          element.appendChild(docLink);\n",
              "        }\n",
              "      </script>\n",
              "    </div>\n",
              "  </div>\n",
              "  "
            ],
            "text/plain": [
              "    Lower Upper\n",
              "0      53   91 \n",
              "1      63  112 \n",
              "2      80   90 \n",
              "3      56   97 \n",
              "4      86  143 \n",
              "..    ...   ...\n",
              "737    58  111 \n",
              "738    72  133 \n",
              "739    56   91 \n",
              "740    95  160 \n",
              "741    61  126 \n",
              "\n",
              "[742 rows x 2 columns]"
            ]
          },
          "metadata": {},
          "execution_count": 14
        }
      ]
    },
    {
      "cell_type": "code",
      "source": [
        "#Making them numeric and adding into the main data frame df\n",
        "sal.Lower = pd.to_numeric(sal.Lower)\n",
        "sal.Upper = pd.to_numeric(sal.Upper)\n",
        "df[\"Lower Salary\"] = sal.Lower\n",
        "df[\"Upper Salary\"] = sal.Upper"
      ],
      "metadata": {
        "id": "KRAnixEZT6l2"
      },
      "id": "KRAnixEZT6l2",
      "execution_count": null,
      "outputs": []
    },
    {
      "cell_type": "code",
      "source": [
        "#Now, I convert the hourly rate into a yearly salary. Assuming 52 week year and 40 hour work week, divided by 1000 to convert into K format.\n",
        "df['Lower Salary']= df.apply(lambda x: x['Lower Salary'] if x['Hourly']==0 else (int)(x['Lower Salary']*40*52/1000), axis = 1)\n",
        "df['Upper Salary']= df.apply(lambda x: x['Upper Salary'] if x['Hourly']==0 else (int)(x['Upper Salary']*40*52/1000), axis = 1)"
      ],
      "metadata": {
        "id": "-CcLj-9BYCHD"
      },
      "id": "-CcLj-9BYCHD",
      "execution_count": null,
      "outputs": []
    },
    {
      "cell_type": "code",
      "source": [
        "#Now, We can find the average salary\n",
        "df[\"Avg Salary(K)\"] = (df[\"Lower Salary\"]+df[\"Upper Salary\"])/2"
      ],
      "metadata": {
        "id": "y3hiJbwRUPad"
      },
      "id": "y3hiJbwRUPad",
      "execution_count": null,
      "outputs": []
    },
    {
      "cell_type": "code",
      "source": [
        "df.head(1)"
      ],
      "metadata": {
        "colab": {
          "base_uri": "https://localhost:8080/",
          "height": 214
        },
        "id": "gveBBRRqb0J4",
        "outputId": "fc2579a7-7e7a-4d14-a921-818c15f9d5a6"
      },
      "id": "gveBBRRqb0J4",
      "execution_count": null,
      "outputs": [
        {
          "output_type": "execute_result",
          "data": {
            "text/html": [
              "\n",
              "  <div id=\"df-cc1611f1-1e74-4523-9bcb-4523ad7cdb85\">\n",
              "    <div class=\"colab-df-container\">\n",
              "      <div>\n",
              "<style scoped>\n",
              "    .dataframe tbody tr th:only-of-type {\n",
              "        vertical-align: middle;\n",
              "    }\n",
              "\n",
              "    .dataframe tbody tr th {\n",
              "        vertical-align: top;\n",
              "    }\n",
              "\n",
              "    .dataframe thead th {\n",
              "        text-align: right;\n",
              "    }\n",
              "</style>\n",
              "<table border=\"1\" class=\"dataframe\">\n",
              "  <thead>\n",
              "    <tr style=\"text-align: right;\">\n",
              "      <th></th>\n",
              "      <th>index</th>\n",
              "      <th>Job Title</th>\n",
              "      <th>Salary Estimate</th>\n",
              "      <th>Job Description</th>\n",
              "      <th>Rating</th>\n",
              "      <th>Company Name</th>\n",
              "      <th>Location</th>\n",
              "      <th>Headquarters</th>\n",
              "      <th>Size</th>\n",
              "      <th>Founded</th>\n",
              "      <th>Type of ownership</th>\n",
              "      <th>Industry</th>\n",
              "      <th>Sector</th>\n",
              "      <th>Revenue</th>\n",
              "      <th>Competitors</th>\n",
              "      <th>Hourly</th>\n",
              "      <th>Employer provided</th>\n",
              "      <th>Lower Salary</th>\n",
              "      <th>Upper Salary</th>\n",
              "      <th>Avg Salary(K)</th>\n",
              "    </tr>\n",
              "  </thead>\n",
              "  <tbody>\n",
              "    <tr>\n",
              "      <th>0</th>\n",
              "      <td>0</td>\n",
              "      <td>Data Scientist</td>\n",
              "      <td>$53K-$91K (Glassdoor est.)</td>\n",
              "      <td>Data Scientist\\nLocation: Albuquerque, NM\\nEdu...</td>\n",
              "      <td>3.8</td>\n",
              "      <td>Tecolote Research\\n3.8</td>\n",
              "      <td>Albuquerque, NM</td>\n",
              "      <td>Goleta, CA</td>\n",
              "      <td>501 to 1000 employees</td>\n",
              "      <td>1973</td>\n",
              "      <td>Company - Private</td>\n",
              "      <td>Aerospace &amp; Defense</td>\n",
              "      <td>Aerospace &amp; Defense</td>\n",
              "      <td>$50 to $100 million (USD)</td>\n",
              "      <td>-1</td>\n",
              "      <td>0</td>\n",
              "      <td>0</td>\n",
              "      <td>53</td>\n",
              "      <td>91</td>\n",
              "      <td>72.0</td>\n",
              "    </tr>\n",
              "  </tbody>\n",
              "</table>\n",
              "</div>\n",
              "      <button class=\"colab-df-convert\" onclick=\"convertToInteractive('df-cc1611f1-1e74-4523-9bcb-4523ad7cdb85')\"\n",
              "              title=\"Convert this dataframe to an interactive table.\"\n",
              "              style=\"display:none;\">\n",
              "        \n",
              "  <svg xmlns=\"http://www.w3.org/2000/svg\" height=\"24px\"viewBox=\"0 0 24 24\"\n",
              "       width=\"24px\">\n",
              "    <path d=\"M0 0h24v24H0V0z\" fill=\"none\"/>\n",
              "    <path d=\"M18.56 5.44l.94 2.06.94-2.06 2.06-.94-2.06-.94-.94-2.06-.94 2.06-2.06.94zm-11 1L8.5 8.5l.94-2.06 2.06-.94-2.06-.94L8.5 2.5l-.94 2.06-2.06.94zm10 10l.94 2.06.94-2.06 2.06-.94-2.06-.94-.94-2.06-.94 2.06-2.06.94z\"/><path d=\"M17.41 7.96l-1.37-1.37c-.4-.4-.92-.59-1.43-.59-.52 0-1.04.2-1.43.59L10.3 9.45l-7.72 7.72c-.78.78-.78 2.05 0 2.83L4 21.41c.39.39.9.59 1.41.59.51 0 1.02-.2 1.41-.59l7.78-7.78 2.81-2.81c.8-.78.8-2.07 0-2.86zM5.41 20L4 18.59l7.72-7.72 1.47 1.35L5.41 20z\"/>\n",
              "  </svg>\n",
              "      </button>\n",
              "      \n",
              "  <style>\n",
              "    .colab-df-container {\n",
              "      display:flex;\n",
              "      flex-wrap:wrap;\n",
              "      gap: 12px;\n",
              "    }\n",
              "\n",
              "    .colab-df-convert {\n",
              "      background-color: #E8F0FE;\n",
              "      border: none;\n",
              "      border-radius: 50%;\n",
              "      cursor: pointer;\n",
              "      display: none;\n",
              "      fill: #1967D2;\n",
              "      height: 32px;\n",
              "      padding: 0 0 0 0;\n",
              "      width: 32px;\n",
              "    }\n",
              "\n",
              "    .colab-df-convert:hover {\n",
              "      background-color: #E2EBFA;\n",
              "      box-shadow: 0px 1px 2px rgba(60, 64, 67, 0.3), 0px 1px 3px 1px rgba(60, 64, 67, 0.15);\n",
              "      fill: #174EA6;\n",
              "    }\n",
              "\n",
              "    [theme=dark] .colab-df-convert {\n",
              "      background-color: #3B4455;\n",
              "      fill: #D2E3FC;\n",
              "    }\n",
              "\n",
              "    [theme=dark] .colab-df-convert:hover {\n",
              "      background-color: #434B5C;\n",
              "      box-shadow: 0px 1px 3px 1px rgba(0, 0, 0, 0.15);\n",
              "      filter: drop-shadow(0px 1px 2px rgba(0, 0, 0, 0.3));\n",
              "      fill: #FFFFFF;\n",
              "    }\n",
              "  </style>\n",
              "\n",
              "      <script>\n",
              "        const buttonEl =\n",
              "          document.querySelector('#df-cc1611f1-1e74-4523-9bcb-4523ad7cdb85 button.colab-df-convert');\n",
              "        buttonEl.style.display =\n",
              "          google.colab.kernel.accessAllowed ? 'block' : 'none';\n",
              "\n",
              "        async function convertToInteractive(key) {\n",
              "          const element = document.querySelector('#df-cc1611f1-1e74-4523-9bcb-4523ad7cdb85');\n",
              "          const dataTable =\n",
              "            await google.colab.kernel.invokeFunction('convertToInteractive',\n",
              "                                                     [key], {});\n",
              "          if (!dataTable) return;\n",
              "\n",
              "          const docLinkHtml = 'Like what you see? Visit the ' +\n",
              "            '<a target=\"_blank\" href=https://colab.research.google.com/notebooks/data_table.ipynb>data table notebook</a>'\n",
              "            + ' to learn more about interactive tables.';\n",
              "          element.innerHTML = '';\n",
              "          dataTable['output_type'] = 'display_data';\n",
              "          await google.colab.output.renderOutput(dataTable, element);\n",
              "          const docLink = document.createElement('div');\n",
              "          docLink.innerHTML = docLinkHtml;\n",
              "          element.appendChild(docLink);\n",
              "        }\n",
              "      </script>\n",
              "    </div>\n",
              "  </div>\n",
              "  "
            ],
            "text/plain": [
              "   index       Job Title  ... Upper Salary Avg Salary(K)\n",
              "0      0  Data Scientist  ...           91          72.0\n",
              "\n",
              "[1 rows x 20 columns]"
            ]
          },
          "metadata": {},
          "execution_count": 18
        }
      ]
    },
    {
      "cell_type": "markdown",
      "source": [
        "## 3. Parsing rating out of company text and removing undesired characters."
      ],
      "metadata": {
        "id": "8RCG1EHFnvvR"
      },
      "id": "8RCG1EHFnvvR"
    },
    {
      "cell_type": "markdown",
      "source": [
        "Taking into account that the Company_Name  column has not only the name of the company, but also the information of the ratings, it is necessary to remove ir the latter.\n",
        "\n",
        "Finally, the rating (when exist) has 3 characters (number dot number)\n",
        "So, the next line is telling that when the Rating column has a value greater than zero, the company name will have 3 characters removed."
      ],
      "metadata": {
        "id": "Cbc2iYWPokQA"
      },
      "id": "Cbc2iYWPokQA"
    },
    {
      "cell_type": "code",
      "source": [
        "df['company_txt']= df.apply(lambda x: x['Company Name'] if x['Rating']<0 else x['Company Name'][:-3], axis = 1)"
      ],
      "metadata": {
        "id": "R2IAOhbuduZr"
      },
      "id": "R2IAOhbuduZr",
      "execution_count": null,
      "outputs": []
    },
    {
      "cell_type": "code",
      "source": [
        "#Each cell in the newly made company_txt coplumn has \"\\n\" characters at the end. We should remove it.\n",
        "df[\"company_txt\"] = df[\"company_txt\"].str[:-1]\n",
        "#or df[\"company_txt\"] = df[\"company_txt\"].str.replace(\"\\n\",\"\")\n"
      ],
      "metadata": {
        "id": "BYvj40oVezAb"
      },
      "id": "BYvj40oVezAb",
      "execution_count": null,
      "outputs": []
    },
    {
      "cell_type": "markdown",
      "source": [
        "## 4. Making a new column for company state and cleaning it."
      ],
      "metadata": {
        "id": "TKScUyN_sOmz"
      },
      "id": "TKScUyN_sOmz"
    },
    {
      "cell_type": "code",
      "source": [
        "job = df[\"Location\"].str.split(\",\",1,expand=True)\n",
        "job[1]"
      ],
      "metadata": {
        "colab": {
          "base_uri": "https://localhost:8080/"
        },
        "id": "2OORsdYisVE5",
        "outputId": "9c045173-bfb5-42f5-815a-080e52c5cf5b"
      },
      "id": "2OORsdYisVE5",
      "execution_count": null,
      "outputs": [
        {
          "output_type": "execute_result",
          "data": {
            "text/plain": [
              "0       NM\n",
              "1       MD\n",
              "2       FL\n",
              "3       WA\n",
              "4       NY\n",
              "      ... \n",
              "737     MA\n",
              "738     TN\n",
              "739     PA\n",
              "740     PA\n",
              "741     OH\n",
              "Name: 1, Length: 742, dtype: object"
            ]
          },
          "metadata": {},
          "execution_count": 21
        }
      ]
    },
    {
      "cell_type": "code",
      "source": [
        "#Create a Job Location column in the main dataframe.\n",
        "df[\"Job Location\"] = job[1]"
      ],
      "metadata": {
        "id": "YkFBgTb-s3DJ"
      },
      "id": "YkFBgTb-s3DJ",
      "execution_count": null,
      "outputs": []
    },
    {
      "cell_type": "code",
      "source": [
        "#Lets look at how the job is distributed among states\n",
        "df[\"Job Location\"].value_counts()"
      ],
      "metadata": {
        "id": "aLWjRlOT1QN2",
        "colab": {
          "base_uri": "https://localhost:8080/"
        },
        "outputId": "f29fac50-2cfc-4d2b-c3ed-082c876631c3"
      },
      "id": "aLWjRlOT1QN2",
      "execution_count": null,
      "outputs": [
        {
          "output_type": "execute_result",
          "data": {
            "text/plain": [
              " CA                 151\n",
              " MA                 103\n",
              " NY                  72\n",
              " VA                  41\n",
              " IL                  40\n",
              " MD                  35\n",
              " PA                  33\n",
              " TX                  28\n",
              " WA                  21\n",
              " NC                  21\n",
              " NJ                  17\n",
              " FL                  16\n",
              " OH                  14\n",
              " TN                  13\n",
              " CO                  11\n",
              " DC                  11\n",
              " UT                  10\n",
              " IN                  10\n",
              " WI                  10\n",
              " MO                   9\n",
              " AZ                   9\n",
              " AL                   8\n",
              " MI                   6\n",
              " DE                   6\n",
              " GA                   6\n",
              " KY                   6\n",
              " CT                   5\n",
              " IA                   5\n",
              " NE                   4\n",
              " OR                   4\n",
              " LA                   4\n",
              " NM                   3\n",
              " KS                   3\n",
              " MN                   2\n",
              " ID                   2\n",
              " Los Angeles, CA      1\n",
              " SC                   1\n",
              " RI                   1\n",
              "Name: Job Location, dtype: int64"
            ]
          },
          "metadata": {},
          "execution_count": 23
        }
      ]
    },
    {
      "cell_type": "code",
      "source": [
        "#Lets check for any spaces before the State codes\n",
        "len(df[\"Job Location\"][0])\n",
        "#We see that the length is 3 but it should be 2"
      ],
      "metadata": {
        "colab": {
          "base_uri": "https://localhost:8080/"
        },
        "id": "jlkMM0pTXDKg",
        "outputId": "503b901a-a01b-4546-813c-d552070a2631"
      },
      "id": "jlkMM0pTXDKg",
      "execution_count": null,
      "outputs": [
        {
          "output_type": "execute_result",
          "data": {
            "text/plain": [
              "3"
            ]
          },
          "metadata": {},
          "execution_count": 24
        }
      ]
    },
    {
      "cell_type": "code",
      "source": [
        "#Here, we removed the space at the end of the state\n",
        "df[\"Job Location\"] = df[\"Job Location\"].str[1:3]"
      ],
      "metadata": {
        "id": "NEupM9tZWsso"
      },
      "id": "NEupM9tZWsso",
      "execution_count": null,
      "outputs": []
    },
    {
      "cell_type": "code",
      "source": [
        "#Here, we see that there is an error in last 2rd row, Los angeles should not be there, we should remove it.\n",
        "#In step before this, we made the Los Angeles, CA into Lo, so we convert Lo to CA\n",
        "df[\"Job Location\"] = df[\"Job Location\"].replace(\"Lo\",\"CA\")\n",
        "\n"
      ],
      "metadata": {
        "id": "gdgHlr5B10ge"
      },
      "id": "gdgHlr5B10ge",
      "execution_count": null,
      "outputs": []
    },
    {
      "cell_type": "code",
      "source": [
        "#Lets check the counts again\n",
        "df[\"Job Location\"].value_counts()"
      ],
      "metadata": {
        "id": "PrkGhdZY2Ix3",
        "colab": {
          "base_uri": "https://localhost:8080/"
        },
        "outputId": "80ce9bbf-a629-40b9-f4aa-48feaf27d5ca"
      },
      "id": "PrkGhdZY2Ix3",
      "execution_count": null,
      "outputs": [
        {
          "output_type": "execute_result",
          "data": {
            "text/plain": [
              "CA    152\n",
              "MA    103\n",
              "NY     72\n",
              "VA     41\n",
              "IL     40\n",
              "MD     35\n",
              "PA     33\n",
              "TX     28\n",
              "WA     21\n",
              "NC     21\n",
              "NJ     17\n",
              "FL     16\n",
              "OH     14\n",
              "TN     13\n",
              "CO     11\n",
              "DC     11\n",
              "WI     10\n",
              "IN     10\n",
              "UT     10\n",
              "MO      9\n",
              "AZ      9\n",
              "AL      8\n",
              "MI      6\n",
              "DE      6\n",
              "KY      6\n",
              "GA      6\n",
              "IA      5\n",
              "CT      5\n",
              "OR      4\n",
              "LA      4\n",
              "NE      4\n",
              "KS      3\n",
              "NM      3\n",
              "MN      2\n",
              "ID      2\n",
              "RI      1\n",
              "SC      1\n",
              "Name: Job Location, dtype: int64"
            ]
          },
          "metadata": {},
          "execution_count": 27
        }
      ]
    },
    {
      "cell_type": "markdown",
      "source": [
        "Notice, how the CA state now has 152 counts instead of 151 because Los Angeles city is in CA (thats what we did above)."
      ],
      "metadata": {
        "id": "9tIAOIJsiQzh"
      },
      "id": "9tIAOIJsiQzh"
    },
    {
      "cell_type": "markdown",
      "source": [
        "List of U.S. States with Abbreviations: https://www23.statcan.gc.ca/imdb/p3VD.pl?Function=getVD&TVD=53971"
      ],
      "metadata": {
        "id": "C1h9NbimYw-3"
      },
      "id": "C1h9NbimYw-3"
    },
    {
      "cell_type": "markdown",
      "source": [
        "## 5. Age of the company"
      ],
      "metadata": {
        "id": "_I-njZnBZJDE"
      },
      "id": "_I-njZnBZJDE"
    },
    {
      "cell_type": "code",
      "source": [
        "# We need to transform the Founded column into the age of the company.\n",
        "df[\"Age\"] = df[\"Founded\"].apply(lambda x: x if x<1 else 2021 - x)\n",
        "#Age of the company as of now (2021)"
      ],
      "metadata": {
        "id": "III5vkkHXvOG"
      },
      "id": "III5vkkHXvOG",
      "execution_count": null,
      "outputs": []
    },
    {
      "cell_type": "code",
      "source": [
        "df[\"Age\"].head(3)"
      ],
      "metadata": {
        "colab": {
          "base_uri": "https://localhost:8080/"
        },
        "id": "kAAMXTW4ZhsU",
        "outputId": "f2bf1770-2e3b-4a0f-b3bc-128a0ff868db"
      },
      "id": "kAAMXTW4ZhsU",
      "execution_count": null,
      "outputs": [
        {
          "output_type": "execute_result",
          "data": {
            "text/plain": [
              "0    48\n",
              "1    37\n",
              "2    11\n",
              "Name: Age, dtype: int64"
            ]
          },
          "metadata": {},
          "execution_count": 29
        }
      ]
    },
    {
      "cell_type": "markdown",
      "source": [
        "## 6. Extracting essential skills from the Job description column"
      ],
      "metadata": {
        "id": "WE8BIh1piAtN"
      },
      "id": "WE8BIh1piAtN"
    },
    {
      "cell_type": "code",
      "source": [
        "# Lets extract the skills(Python,r,mongo,spark,julia,sql,sas,excel etc) the company wants in a Data Scientist\n",
        "\n",
        "# Python \n",
        "df[\"Python\"] = df[\"Job Description\"].apply(lambda x: 1 if \"python\" in x.lower() else 0)"
      ],
      "metadata": {
        "id": "IjGoZk77imKm"
      },
      "id": "IjGoZk77imKm",
      "execution_count": null,
      "outputs": []
    },
    {
      "cell_type": "code",
      "source": [
        "df.Python.value_counts()"
      ],
      "metadata": {
        "colab": {
          "base_uri": "https://localhost:8080/"
        },
        "id": "qdEHND8zkFe7",
        "outputId": "8f8ea3fb-b36e-4f2d-a61a-b4cb1d21ab47"
      },
      "id": "qdEHND8zkFe7",
      "execution_count": null,
      "outputs": [
        {
          "output_type": "execute_result",
          "data": {
            "text/plain": [
              "1    392\n",
              "0    350\n",
              "Name: Python, dtype: int64"
            ]
          },
          "metadata": {},
          "execution_count": 31
        }
      ]
    },
    {
      "cell_type": "code",
      "source": [
        "# r-studio\n",
        "df[\"R-studio\"] = df[\"Job Description\"].apply(lambda x: 1 if \"r-studio\" in x.lower() or \"r studio\" in x.lower() else 0)\n",
        "df[\"R-studio\"].value_counts()"
      ],
      "metadata": {
        "colab": {
          "base_uri": "https://localhost:8080/"
        },
        "id": "W3ZTE-QWkRel",
        "outputId": "c4389624-e872-4b7d-8a8c-68fcfc46682b"
      },
      "id": "W3ZTE-QWkRel",
      "execution_count": null,
      "outputs": [
        {
          "output_type": "execute_result",
          "data": {
            "text/plain": [
              "0    740\n",
              "1      2\n",
              "Name: R-studio, dtype: int64"
            ]
          },
          "metadata": {},
          "execution_count": 32
        }
      ]
    },
    {
      "cell_type": "markdown",
      "source": [
        "It looks like it is too small to make any insights from this. We can just delete this column from the database"
      ],
      "metadata": {
        "id": "R9DHR41tlbEF"
      },
      "id": "R9DHR41tlbEF"
    },
    {
      "cell_type": "code",
      "source": [
        "df = df.drop(\"R-studio\",axis=1)"
      ],
      "metadata": {
        "id": "TI4O7agak-I3"
      },
      "id": "TI4O7agak-I3",
      "execution_count": null,
      "outputs": []
    },
    {
      "cell_type": "code",
      "source": [
        "#spark\n",
        "df['spark']  = df['Job Description'].apply(lambda x: 1 if 'spark' in x.lower() else 0)\n",
        "df.spark.value_counts()"
      ],
      "metadata": {
        "colab": {
          "base_uri": "https://localhost:8080/"
        },
        "id": "zcpJ97xHlxvC",
        "outputId": "19f234ce-4579-4ec6-ea54-cedb5e00dcef"
      },
      "id": "zcpJ97xHlxvC",
      "execution_count": null,
      "outputs": [
        {
          "output_type": "execute_result",
          "data": {
            "text/plain": [
              "0    575\n",
              "1    167\n",
              "Name: spark, dtype: int64"
            ]
          },
          "metadata": {},
          "execution_count": 34
        }
      ]
    },
    {
      "cell_type": "code",
      "source": [
        "\n",
        "#aws\n",
        "df['aws']  = df['Job Description'].apply(lambda x: 1 if 'aws' in x.lower() else 0)\n",
        "df.aws.value_counts()"
      ],
      "metadata": {
        "colab": {
          "base_uri": "https://localhost:8080/"
        },
        "id": "CTbhA_N4mhQ8",
        "outputId": "9a70663c-f1cb-4005-8db3-60d4bdb098a9"
      },
      "id": "CTbhA_N4mhQ8",
      "execution_count": null,
      "outputs": [
        {
          "output_type": "execute_result",
          "data": {
            "text/plain": [
              "0    566\n",
              "1    176\n",
              "Name: aws, dtype: int64"
            ]
          },
          "metadata": {},
          "execution_count": 35
        }
      ]
    },
    {
      "cell_type": "code",
      "source": [
        "#excel\n",
        "df['excel']  = df['Job Description'].apply(lambda x: 1 if 'excel' in x.lower() else 0)\n",
        "df.excel.value_counts()"
      ],
      "metadata": {
        "colab": {
          "base_uri": "https://localhost:8080/"
        },
        "id": "LDJB1p37mhPD",
        "outputId": "3ed1d808-78a5-4d6d-fe98-8cfb7ffdc896"
      },
      "id": "LDJB1p37mhPD",
      "execution_count": null,
      "outputs": [
        {
          "output_type": "execute_result",
          "data": {
            "text/plain": [
              "1    388\n",
              "0    354\n",
              "Name: excel, dtype: int64"
            ]
          },
          "metadata": {},
          "execution_count": 36
        }
      ]
    },
    {
      "cell_type": "code",
      "source": [
        "#sql\n",
        "df['sql']  = df['Job Description'].apply(lambda x: 1 if 'sql' in x.lower() else 0)\n",
        "df.sql.value_counts()"
      ],
      "metadata": {
        "colab": {
          "base_uri": "https://localhost:8080/"
        },
        "id": "ePajPxu7mhNU",
        "outputId": "acac3d54-5232-4892-e452-97c081fa7410"
      },
      "id": "ePajPxu7mhNU",
      "execution_count": null,
      "outputs": [
        {
          "output_type": "execute_result",
          "data": {
            "text/plain": [
              "1    380\n",
              "0    362\n",
              "Name: sql, dtype: int64"
            ]
          },
          "metadata": {},
          "execution_count": 37
        }
      ]
    },
    {
      "cell_type": "code",
      "source": [
        "#sas \n",
        "df['sas']  = df['Job Description'].apply(lambda x: 1 if (' sas ' in x.lower() or ' sas,' in x.lower() or ' sas.' in x.lower())  else 0)\n",
        "df.sas.value_counts()"
      ],
      "metadata": {
        "colab": {
          "base_uri": "https://localhost:8080/"
        },
        "id": "R-cwpMuMmhLp",
        "outputId": "19cc9a40-fb4c-4d56-c8da-1a1f0108b2d1"
      },
      "id": "R-cwpMuMmhLp",
      "execution_count": null,
      "outputs": [
        {
          "output_type": "execute_result",
          "data": {
            "text/plain": [
              "0    676\n",
              "1     66\n",
              "Name: sas, dtype: int64"
            ]
          },
          "metadata": {},
          "execution_count": 38
        }
      ]
    },
    {
      "cell_type": "code",
      "source": [
        "#julia\n",
        "df['julia']  = df['Job Description'].apply(lambda x: 1 if 'julia' in x.lower() else 0)\n",
        "df.julia.value_counts()"
      ],
      "metadata": {
        "colab": {
          "base_uri": "https://localhost:8080/"
        },
        "id": "XYXZ-gnlmhIL",
        "outputId": "8d5999e4-2549-4b31-8fac-28842ad8c8cc"
      },
      "id": "XYXZ-gnlmhIL",
      "execution_count": null,
      "outputs": [
        {
          "output_type": "execute_result",
          "data": {
            "text/plain": [
              "0    742\n",
              "Name: julia, dtype: int64"
            ]
          },
          "metadata": {},
          "execution_count": 39
        }
      ]
    },
    {
      "cell_type": "markdown",
      "source": [
        "Zero requirement for Julia in any company. So, we drop this column."
      ],
      "metadata": {
        "id": "IqMp68fNnwlt"
      },
      "id": "IqMp68fNnwlt"
    },
    {
      "cell_type": "code",
      "source": [
        "df = df.drop(\"julia\",axis=1)"
      ],
      "metadata": {
        "id": "em_ZsqLrn1vP"
      },
      "id": "em_ZsqLrn1vP",
      "execution_count": null,
      "outputs": []
    },
    {
      "cell_type": "code",
      "source": [
        "#keras\n",
        "df['keras']  = df['Job Description'].apply(lambda x: 1 if 'keras' in x.lower() else 0)\n",
        "df.keras.value_counts()"
      ],
      "metadata": {
        "colab": {
          "base_uri": "https://localhost:8080/"
        },
        "id": "Z-5zkrqfmhFj",
        "outputId": "79c7e38c-1eae-4943-c5b4-2fbe4cc044d8"
      },
      "id": "Z-5zkrqfmhFj",
      "execution_count": null,
      "outputs": [
        {
          "output_type": "execute_result",
          "data": {
            "text/plain": [
              "0    713\n",
              "1     29\n",
              "Name: keras, dtype: int64"
            ]
          },
          "metadata": {},
          "execution_count": 41
        }
      ]
    },
    {
      "cell_type": "code",
      "source": [
        "#pytorch\n",
        "df['pytorch']  = df['Job Description'].apply(lambda x: 1 if 'pytorch' in x.lower() else 0)\n",
        "df.pytorch.value_counts()"
      ],
      "metadata": {
        "colab": {
          "base_uri": "https://localhost:8080/"
        },
        "id": "09J0LvY5mhDS",
        "outputId": "1e422023-7fb2-44f7-98ae-b33e4d0860ec"
      },
      "id": "09J0LvY5mhDS",
      "execution_count": null,
      "outputs": [
        {
          "output_type": "execute_result",
          "data": {
            "text/plain": [
              "0    703\n",
              "1     39\n",
              "Name: pytorch, dtype: int64"
            ]
          },
          "metadata": {},
          "execution_count": 42
        }
      ]
    },
    {
      "cell_type": "code",
      "source": [
        "#scikit-learn\n",
        "df['scikit']  = df['Job Description'].apply(lambda x: 1 if 'scikit' in x.lower() else 0)\n",
        "df.scikit.value_counts()"
      ],
      "metadata": {
        "colab": {
          "base_uri": "https://localhost:8080/"
        },
        "id": "kXaz_FT5mhA6",
        "outputId": "b64698f3-d1ad-40fe-b476-7b093efb5177"
      },
      "id": "kXaz_FT5mhA6",
      "execution_count": null,
      "outputs": [
        {
          "output_type": "execute_result",
          "data": {
            "text/plain": [
              "0    688\n",
              "1     54\n",
              "Name: scikit, dtype: int64"
            ]
          },
          "metadata": {},
          "execution_count": 43
        }
      ]
    },
    {
      "cell_type": "code",
      "source": [
        "#tensor\n",
        "df['tensor']  = df['Job Description'].apply(lambda x: 1 if 'tensor' in x.lower() else 0)\n",
        "df.tensor.value_counts()"
      ],
      "metadata": {
        "colab": {
          "base_uri": "https://localhost:8080/"
        },
        "id": "840VvNgwmg86",
        "outputId": "6580976b-7827-4b67-9d76-70f9c9fd2f31"
      },
      "id": "840VvNgwmg86",
      "execution_count": null,
      "outputs": [
        {
          "output_type": "execute_result",
          "data": {
            "text/plain": [
              "0    670\n",
              "1     72\n",
              "Name: tensor, dtype: int64"
            ]
          },
          "metadata": {},
          "execution_count": 44
        }
      ]
    },
    {
      "cell_type": "code",
      "source": [
        "#selenium\n",
        "df['selenium']  = df['Job Description'].apply(lambda x: 1 if 'selenium' in x.lower() else 0)\n",
        "df.selenium.value_counts()"
      ],
      "metadata": {
        "colab": {
          "base_uri": "https://localhost:8080/"
        },
        "id": "6mVeabvgmg6z",
        "outputId": "95d3c62b-27c3-40ec-d763-d50b18aa7ba7"
      },
      "id": "6mVeabvgmg6z",
      "execution_count": null,
      "outputs": [
        {
          "output_type": "execute_result",
          "data": {
            "text/plain": [
              "0    739\n",
              "1      3\n",
              "Name: selenium, dtype: int64"
            ]
          },
          "metadata": {},
          "execution_count": 45
        }
      ]
    },
    {
      "cell_type": "code",
      "source": [
        "#Zero requirement for Julia in any company. So, we drop this column.\n",
        "df = df.drop(\"selenium\",axis=1)"
      ],
      "metadata": {
        "id": "CjA7UoQooD2m"
      },
      "id": "CjA7UoQooD2m",
      "execution_count": null,
      "outputs": []
    },
    {
      "cell_type": "code",
      "source": [
        "#hadoop\n",
        "df['hadoop']  = df['Job Description'].apply(lambda x: 1 if 'hadoop' in x.lower() else 0)\n",
        "df.hadoop.value_counts()"
      ],
      "metadata": {
        "colab": {
          "base_uri": "https://localhost:8080/"
        },
        "id": "wkzqH5xAmg2C",
        "outputId": "77f26349-3c9c-4b75-f7ae-a6582b30ac67"
      },
      "id": "wkzqH5xAmg2C",
      "execution_count": null,
      "outputs": [
        {
          "output_type": "execute_result",
          "data": {
            "text/plain": [
              "0    618\n",
              "1    124\n",
              "Name: hadoop, dtype: int64"
            ]
          },
          "metadata": {},
          "execution_count": 47
        }
      ]
    },
    {
      "cell_type": "code",
      "source": [
        "#tableau\n",
        "df['tableau']  = df['Job Description'].apply(lambda x: 1 if 'tableau' in x.lower() else 0)\n",
        "df.tableau.value_counts()"
      ],
      "metadata": {
        "colab": {
          "base_uri": "https://localhost:8080/"
        },
        "id": "MWAlRlXzmgyr",
        "outputId": "34831bc5-650a-4f77-f598-abd952f27613"
      },
      "id": "MWAlRlXzmgyr",
      "execution_count": null,
      "outputs": [
        {
          "output_type": "execute_result",
          "data": {
            "text/plain": [
              "0    594\n",
              "1    148\n",
              "Name: tableau, dtype: int64"
            ]
          },
          "metadata": {},
          "execution_count": 48
        }
      ]
    },
    {
      "cell_type": "code",
      "source": [
        "#power bi\n",
        "df['bi']  = df['Job Description'].apply(lambda x: 1 if ('power bi' in x.lower() or 'powerbi' in x.lower()) else 0)\n",
        "df.bi.value_counts()"
      ],
      "metadata": {
        "colab": {
          "base_uri": "https://localhost:8080/"
        },
        "id": "lXJ-fqUAmgui",
        "outputId": "e398e8d1-364b-436f-e265-05c56789915f"
      },
      "id": "lXJ-fqUAmgui",
      "execution_count": null,
      "outputs": [
        {
          "output_type": "execute_result",
          "data": {
            "text/plain": [
              "0    686\n",
              "1     56\n",
              "Name: bi, dtype: int64"
            ]
          },
          "metadata": {},
          "execution_count": 49
        }
      ]
    },
    {
      "cell_type": "code",
      "source": [
        "#apache flink\n",
        "df['flink']  = df['Job Description'].apply(lambda x: 1 if 'flink' in x.lower() else 0)\n",
        "df.flink.value_counts()"
      ],
      "metadata": {
        "colab": {
          "base_uri": "https://localhost:8080/"
        },
        "id": "9gAsl3gymgsi",
        "outputId": "1fad2357-ae44-440f-cd62-ba0e08a82558"
      },
      "id": "9gAsl3gymgsi",
      "execution_count": null,
      "outputs": [
        {
          "output_type": "execute_result",
          "data": {
            "text/plain": [
              "0    732\n",
              "1     10\n",
              "Name: flink, dtype: int64"
            ]
          },
          "metadata": {},
          "execution_count": 50
        }
      ]
    },
    {
      "cell_type": "code",
      "source": [
        "#mongo db\n",
        "df['mongo']  = df['Job Description'].apply(lambda x: 1 if 'mongo' in x.lower() else 0)\n",
        "df.mongo.value_counts()"
      ],
      "metadata": {
        "colab": {
          "base_uri": "https://localhost:8080/"
        },
        "id": "3ndBc_UGnK0t",
        "outputId": "4badb78b-53c3-48bf-c049-f498a3099e85"
      },
      "id": "3ndBc_UGnK0t",
      "execution_count": null,
      "outputs": [
        {
          "output_type": "execute_result",
          "data": {
            "text/plain": [
              "0    705\n",
              "1     37\n",
              "Name: mongo, dtype: int64"
            ]
          },
          "metadata": {},
          "execution_count": 51
        }
      ]
    },
    {
      "cell_type": "code",
      "source": [
        "#google analytics\n",
        "df['google_an']  = df['Job Description'].apply(lambda x: 1 if 'google analytics' in x.lower() else 0)\n",
        "df.google_an.value_counts()"
      ],
      "metadata": {
        "colab": {
          "base_uri": "https://localhost:8080/"
        },
        "id": "K_3MtletnKrw",
        "outputId": "f94279d9-b63a-43ac-b52b-7195e3f1212b"
      },
      "id": "K_3MtletnKrw",
      "execution_count": null,
      "outputs": [
        {
          "output_type": "execute_result",
          "data": {
            "text/plain": [
              "0    728\n",
              "1     14\n",
              "Name: google_an, dtype: int64"
            ]
          },
          "metadata": {},
          "execution_count": 52
        }
      ]
    },
    {
      "cell_type": "code",
      "source": [
        "df.head(1)"
      ],
      "metadata": {
        "colab": {
          "base_uri": "https://localhost:8080/",
          "height": 214
        },
        "id": "Usz5cPNLnKn-",
        "outputId": "5316f6a7-7eec-4702-8b6e-cffd6c1aa11a"
      },
      "id": "Usz5cPNLnKn-",
      "execution_count": null,
      "outputs": [
        {
          "output_type": "execute_result",
          "data": {
            "text/html": [
              "\n",
              "  <div id=\"df-6359b608-f137-4d57-9fcb-17661fec69b9\">\n",
              "    <div class=\"colab-df-container\">\n",
              "      <div>\n",
              "<style scoped>\n",
              "    .dataframe tbody tr th:only-of-type {\n",
              "        vertical-align: middle;\n",
              "    }\n",
              "\n",
              "    .dataframe tbody tr th {\n",
              "        vertical-align: top;\n",
              "    }\n",
              "\n",
              "    .dataframe thead th {\n",
              "        text-align: right;\n",
              "    }\n",
              "</style>\n",
              "<table border=\"1\" class=\"dataframe\">\n",
              "  <thead>\n",
              "    <tr style=\"text-align: right;\">\n",
              "      <th></th>\n",
              "      <th>index</th>\n",
              "      <th>Job Title</th>\n",
              "      <th>Salary Estimate</th>\n",
              "      <th>Job Description</th>\n",
              "      <th>Rating</th>\n",
              "      <th>Company Name</th>\n",
              "      <th>Location</th>\n",
              "      <th>Headquarters</th>\n",
              "      <th>Size</th>\n",
              "      <th>Founded</th>\n",
              "      <th>Type of ownership</th>\n",
              "      <th>Industry</th>\n",
              "      <th>Sector</th>\n",
              "      <th>Revenue</th>\n",
              "      <th>Competitors</th>\n",
              "      <th>Hourly</th>\n",
              "      <th>Employer provided</th>\n",
              "      <th>Lower Salary</th>\n",
              "      <th>Upper Salary</th>\n",
              "      <th>Avg Salary(K)</th>\n",
              "      <th>company_txt</th>\n",
              "      <th>Job Location</th>\n",
              "      <th>Age</th>\n",
              "      <th>Python</th>\n",
              "      <th>spark</th>\n",
              "      <th>aws</th>\n",
              "      <th>excel</th>\n",
              "      <th>sql</th>\n",
              "      <th>sas</th>\n",
              "      <th>keras</th>\n",
              "      <th>pytorch</th>\n",
              "      <th>scikit</th>\n",
              "      <th>tensor</th>\n",
              "      <th>hadoop</th>\n",
              "      <th>tableau</th>\n",
              "      <th>bi</th>\n",
              "      <th>flink</th>\n",
              "      <th>mongo</th>\n",
              "      <th>google_an</th>\n",
              "    </tr>\n",
              "  </thead>\n",
              "  <tbody>\n",
              "    <tr>\n",
              "      <th>0</th>\n",
              "      <td>0</td>\n",
              "      <td>Data Scientist</td>\n",
              "      <td>$53K-$91K (Glassdoor est.)</td>\n",
              "      <td>Data Scientist\\nLocation: Albuquerque, NM\\nEdu...</td>\n",
              "      <td>3.8</td>\n",
              "      <td>Tecolote Research\\n3.8</td>\n",
              "      <td>Albuquerque, NM</td>\n",
              "      <td>Goleta, CA</td>\n",
              "      <td>501 to 1000 employees</td>\n",
              "      <td>1973</td>\n",
              "      <td>Company - Private</td>\n",
              "      <td>Aerospace &amp; Defense</td>\n",
              "      <td>Aerospace &amp; Defense</td>\n",
              "      <td>$50 to $100 million (USD)</td>\n",
              "      <td>-1</td>\n",
              "      <td>0</td>\n",
              "      <td>0</td>\n",
              "      <td>53</td>\n",
              "      <td>91</td>\n",
              "      <td>72.0</td>\n",
              "      <td>Tecolote Research</td>\n",
              "      <td>NM</td>\n",
              "      <td>48</td>\n",
              "      <td>1</td>\n",
              "      <td>0</td>\n",
              "      <td>0</td>\n",
              "      <td>1</td>\n",
              "      <td>0</td>\n",
              "      <td>1</td>\n",
              "      <td>0</td>\n",
              "      <td>0</td>\n",
              "      <td>0</td>\n",
              "      <td>0</td>\n",
              "      <td>0</td>\n",
              "      <td>1</td>\n",
              "      <td>1</td>\n",
              "      <td>0</td>\n",
              "      <td>0</td>\n",
              "      <td>0</td>\n",
              "    </tr>\n",
              "  </tbody>\n",
              "</table>\n",
              "</div>\n",
              "      <button class=\"colab-df-convert\" onclick=\"convertToInteractive('df-6359b608-f137-4d57-9fcb-17661fec69b9')\"\n",
              "              title=\"Convert this dataframe to an interactive table.\"\n",
              "              style=\"display:none;\">\n",
              "        \n",
              "  <svg xmlns=\"http://www.w3.org/2000/svg\" height=\"24px\"viewBox=\"0 0 24 24\"\n",
              "       width=\"24px\">\n",
              "    <path d=\"M0 0h24v24H0V0z\" fill=\"none\"/>\n",
              "    <path d=\"M18.56 5.44l.94 2.06.94-2.06 2.06-.94-2.06-.94-.94-2.06-.94 2.06-2.06.94zm-11 1L8.5 8.5l.94-2.06 2.06-.94-2.06-.94L8.5 2.5l-.94 2.06-2.06.94zm10 10l.94 2.06.94-2.06 2.06-.94-2.06-.94-.94-2.06-.94 2.06-2.06.94z\"/><path d=\"M17.41 7.96l-1.37-1.37c-.4-.4-.92-.59-1.43-.59-.52 0-1.04.2-1.43.59L10.3 9.45l-7.72 7.72c-.78.78-.78 2.05 0 2.83L4 21.41c.39.39.9.59 1.41.59.51 0 1.02-.2 1.41-.59l7.78-7.78 2.81-2.81c.8-.78.8-2.07 0-2.86zM5.41 20L4 18.59l7.72-7.72 1.47 1.35L5.41 20z\"/>\n",
              "  </svg>\n",
              "      </button>\n",
              "      \n",
              "  <style>\n",
              "    .colab-df-container {\n",
              "      display:flex;\n",
              "      flex-wrap:wrap;\n",
              "      gap: 12px;\n",
              "    }\n",
              "\n",
              "    .colab-df-convert {\n",
              "      background-color: #E8F0FE;\n",
              "      border: none;\n",
              "      border-radius: 50%;\n",
              "      cursor: pointer;\n",
              "      display: none;\n",
              "      fill: #1967D2;\n",
              "      height: 32px;\n",
              "      padding: 0 0 0 0;\n",
              "      width: 32px;\n",
              "    }\n",
              "\n",
              "    .colab-df-convert:hover {\n",
              "      background-color: #E2EBFA;\n",
              "      box-shadow: 0px 1px 2px rgba(60, 64, 67, 0.3), 0px 1px 3px 1px rgba(60, 64, 67, 0.15);\n",
              "      fill: #174EA6;\n",
              "    }\n",
              "\n",
              "    [theme=dark] .colab-df-convert {\n",
              "      background-color: #3B4455;\n",
              "      fill: #D2E3FC;\n",
              "    }\n",
              "\n",
              "    [theme=dark] .colab-df-convert:hover {\n",
              "      background-color: #434B5C;\n",
              "      box-shadow: 0px 1px 3px 1px rgba(0, 0, 0, 0.15);\n",
              "      filter: drop-shadow(0px 1px 2px rgba(0, 0, 0, 0.3));\n",
              "      fill: #FFFFFF;\n",
              "    }\n",
              "  </style>\n",
              "\n",
              "      <script>\n",
              "        const buttonEl =\n",
              "          document.querySelector('#df-6359b608-f137-4d57-9fcb-17661fec69b9 button.colab-df-convert');\n",
              "        buttonEl.style.display =\n",
              "          google.colab.kernel.accessAllowed ? 'block' : 'none';\n",
              "\n",
              "        async function convertToInteractive(key) {\n",
              "          const element = document.querySelector('#df-6359b608-f137-4d57-9fcb-17661fec69b9');\n",
              "          const dataTable =\n",
              "            await google.colab.kernel.invokeFunction('convertToInteractive',\n",
              "                                                     [key], {});\n",
              "          if (!dataTable) return;\n",
              "\n",
              "          const docLinkHtml = 'Like what you see? Visit the ' +\n",
              "            '<a target=\"_blank\" href=https://colab.research.google.com/notebooks/data_table.ipynb>data table notebook</a>'\n",
              "            + ' to learn more about interactive tables.';\n",
              "          element.innerHTML = '';\n",
              "          dataTable['output_type'] = 'display_data';\n",
              "          await google.colab.output.renderOutput(dataTable, element);\n",
              "          const docLink = document.createElement('div');\n",
              "          docLink.innerHTML = docLinkHtml;\n",
              "          element.appendChild(docLink);\n",
              "        }\n",
              "      </script>\n",
              "    </div>\n",
              "  </div>\n",
              "  "
            ],
            "text/plain": [
              "   index       Job Title             Salary Estimate  ... flink  mongo google_an\n",
              "0      0  Data Scientist  $53K-$91K (Glassdoor est.)  ...     0      0         0\n",
              "\n",
              "[1 rows x 39 columns]"
            ]
          },
          "metadata": {},
          "execution_count": 53
        }
      ]
    },
    {
      "cell_type": "markdown",
      "source": [
        "## 7. Job Title simplified."
      ],
      "metadata": {
        "id": "wKB1RixUqWcb"
      },
      "id": "wKB1RixUqWcb"
    },
    {
      "cell_type": "code",
      "source": [
        "#Looking at this, we find there are many job titles\n",
        "df[\"Job Title\"].unique()[0:5]"
      ],
      "metadata": {
        "colab": {
          "base_uri": "https://localhost:8080/"
        },
        "id": "RMT5l16-sACP",
        "outputId": "5a0176e2-952e-40ca-96b6-ed974403f6f1"
      },
      "id": "RMT5l16-sACP",
      "execution_count": null,
      "outputs": [
        {
          "output_type": "execute_result",
          "data": {
            "text/plain": [
              "array(['Data Scientist', 'Healthcare Data Scientist',\n",
              "       'Research Scientist', 'Staff Data Scientist - Technology',\n",
              "       'Data Analyst'], dtype=object)"
            ]
          },
          "metadata": {},
          "execution_count": 54
        }
      ]
    },
    {
      "cell_type": "code",
      "source": [
        "#Instead of just Data scientist job title, we have job title related to the data science field like ML engineer, data analist etc.\n",
        "def title_simplifier(title):\n",
        "    if 'data scientist' in title.lower():\n",
        "        return 'data scientist'\n",
        "    elif 'data science' in title.lower():\n",
        "        return 'data scientist'\n",
        "    elif 'data engineer' in title.lower():\n",
        "        return 'data engineer'\n",
        "    elif 'analyst' in title.lower():\n",
        "        return 'analyst'\n",
        "    elif 'machine learning' in title.lower():\n",
        "        return 'machine learning engineer'\n",
        "    elif 'manager' in title.lower():\n",
        "        return 'Data scientist project manager'\n",
        "    elif 'director' in title.lower():\n",
        "        return 'director'\n",
        "    elif 'scientist' in title.lower():\n",
        "        return 'other scientist'\n",
        "    elif 'data modeler' in title.lower():\n",
        "        return 'data modeler'\n",
        "    elif 'data' and 'anal' in title.lower():\n",
        "        return 'data analitics'\n",
        "    else:\n",
        "        return 'na'  #not applicable"
      ],
      "metadata": {
        "id": "nEDBOZmlorum"
      },
      "id": "nEDBOZmlorum",
      "execution_count": null,
      "outputs": []
    },
    {
      "cell_type": "code",
      "source": [
        "df['job_title_sim'] = df['Job Title'].apply(title_simplifier)\n",
        "df['job_title_sim'].value_counts()"
      ],
      "metadata": {
        "colab": {
          "base_uri": "https://localhost:8080/"
        },
        "id": "fTqVjrz1qwxP",
        "outputId": "eaf19445-b808-4ed5-f51f-0cafb20ec66f"
      },
      "id": "fTqVjrz1qwxP",
      "execution_count": null,
      "outputs": [
        {
          "output_type": "execute_result",
          "data": {
            "text/plain": [
              "data scientist                    313\n",
              "other scientist                   143\n",
              "data engineer                     119\n",
              "analyst                           101\n",
              "machine learning engineer          22\n",
              "Data scientist project manager     16\n",
              "na                                 10\n",
              "data analitics                      8\n",
              "director                            5\n",
              "data modeler                        5\n",
              "Name: job_title_sim, dtype: int64"
            ]
          },
          "metadata": {},
          "execution_count": 56
        }
      ]
    },
    {
      "cell_type": "markdown",
      "source": [
        "### By looking at the Job Description column, we can also classify these jobs into different seniority levels."
      ],
      "metadata": {
        "id": "lr-tYr9WsPNH"
      },
      "id": "lr-tYr9WsPNH"
    },
    {
      "cell_type": "code",
      "source": [
        "#This function looks for the seniority asked in the title of each job asking (Job Title column)\n",
        "def seniority(title):\n",
        "    if 's.sr' in title.lower() or 's. sr' in title.lower() or 's sr' in title.lower() or 'ssr' in title.lower() or 's. senior' in title.lower() or 'semi or' in title.lower() or 'middle' in title.lower() or 'mid' in title.lower():\n",
        "        return 'ssr'\n",
        "    elif 'jr' in title.lower() or 'junior' in title.lower():\n",
        "        return 'jr'\n",
        "    elif 'sr' in title.lower() or 'senior' in title.lower() or 'lead' in title.lower() or 'principal' in title.lower():\n",
        "        return 'sr'\n",
        "    else:\n",
        "        return 'na'"
      ],
      "metadata": {
        "id": "z8goqFkVrFXu"
      },
      "id": "z8goqFkVrFXu",
      "execution_count": null,
      "outputs": []
    },
    {
      "cell_type": "code",
      "source": [
        "df['seniority_by_title'] = df['Job Title'].apply(seniority)\n",
        "df.seniority_by_title.value_counts()"
      ],
      "metadata": {
        "colab": {
          "base_uri": "https://localhost:8080/"
        },
        "id": "G0hyRgURsfHb",
        "outputId": "6d21c836-9309-45f5-f9b4-b07934f31d72"
      },
      "id": "G0hyRgURsfHb",
      "execution_count": null,
      "outputs": [
        {
          "output_type": "execute_result",
          "data": {
            "text/plain": [
              "na    519\n",
              "sr    220\n",
              "jr      3\n",
              "Name: seniority_by_title, dtype: int64"
            ]
          },
          "metadata": {},
          "execution_count": 58
        }
      ]
    },
    {
      "cell_type": "markdown",
      "source": [
        "## 8. Size, Ownership and Revenue column corrections"
      ],
      "metadata": {
        "id": "KcBNdwLcvP0P"
      },
      "id": "KcBNdwLcvP0P"
    },
    {
      "cell_type": "code",
      "source": [
        "#Lets remove \"employees\" from size column\n",
        "df[\"Size\"] = df[\"Size\"].apply(lambda x: x.lower().replace(\"employees\",\"\"))\n",
        "df[\"Size\"] = df[\"Size\"].apply(lambda x: x.lower().replace(\" to \",\" - \"))\n",
        "df[\"Size\"] = df[\"Size\"].apply(lambda x: x.lower().replace(\"-1\",\"unknown\"))"
      ],
      "metadata": {
        "id": "iWfuEJ73t1Dl"
      },
      "id": "iWfuEJ73t1Dl",
      "execution_count": null,
      "outputs": []
    },
    {
      "cell_type": "code",
      "source": [
        "df.Size.unique()"
      ],
      "metadata": {
        "colab": {
          "base_uri": "https://localhost:8080/"
        },
        "id": "uTs6i-g-vmuu",
        "outputId": "1b578d39-565f-4f18-e8d0-74d1f0b458ff"
      },
      "id": "uTs6i-g-vmuu",
      "execution_count": null,
      "outputs": [
        {
          "output_type": "execute_result",
          "data": {
            "text/plain": [
              "array(['501 - 1000 ', '10000+ ', '1001 - 5000 ', '51 - 200 ',\n",
              "       '201 - 500 ', '5001 - 10000 ', '1 - 50 ', 'unknown'], dtype=object)"
            ]
          },
          "metadata": {},
          "execution_count": 60
        }
      ]
    },
    {
      "cell_type": "code",
      "source": [
        "#Revenue\n",
        "df['Revenue'] = df['Revenue'].apply(lambda x: 'Unknown / Non-Applicable' if '-1' in x.lower() else x)\n",
        "df['Revenue'].value_counts()"
      ],
      "metadata": {
        "colab": {
          "base_uri": "https://localhost:8080/"
        },
        "id": "_BWzyXe2wz-e",
        "outputId": "3c2f3e79-c566-4ef9-8f5d-17bd26cc3739"
      },
      "id": "_BWzyXe2wz-e",
      "execution_count": null,
      "outputs": [
        {
          "output_type": "execute_result",
          "data": {
            "text/plain": [
              "Unknown / Non-Applicable            204\n",
              "$10+ billion (USD)                  124\n",
              "$100 to $500 million (USD)           91\n",
              "$1 to $2 billion (USD)               60\n",
              "$500 million to $1 billion (USD)     57\n",
              "$50 to $100 million (USD)            46\n",
              "$25 to $50 million (USD)             40\n",
              "$2 to $5 billion (USD)               39\n",
              "$10 to $25 million (USD)             32\n",
              "$5 to $10 billion (USD)              19\n",
              "$5 to $10 million (USD)              18\n",
              "$1 to $5 million (USD)                8\n",
              "Less than $1 million (USD)            4\n",
              "Name: Revenue, dtype: int64"
            ]
          },
          "metadata": {},
          "execution_count": 61
        }
      ]
    },
    {
      "cell_type": "code",
      "source": [
        "# Type of ownership \n",
        "df['Type of ownership'] = df['Type of ownership'].apply(lambda x: 'Other Organization' if 'unknown' in x.lower() else ('Other Organization' if '-1' in x.lower() else x))\n",
        "df['Type of ownership'].value_counts()"
      ],
      "metadata": {
        "colab": {
          "base_uri": "https://localhost:8080/"
        },
        "id": "XFGXd-uJxqmk",
        "outputId": "0683e40b-fe1e-4568-f9c8-0f639a60ccb2"
      },
      "id": "XFGXd-uJxqmk",
      "execution_count": null,
      "outputs": [
        {
          "output_type": "execute_result",
          "data": {
            "text/plain": [
              "Company - Private                 410\n",
              "Company - Public                  193\n",
              "Nonprofit Organization             55\n",
              "Subsidiary or Business Segment     34\n",
              "Hospital                           15\n",
              "Government                         15\n",
              "College / University               13\n",
              "Other Organization                  5\n",
              "School / School District            2\n",
              "Name: Type of ownership, dtype: int64"
            ]
          },
          "metadata": {},
          "execution_count": 62
        }
      ]
    },
    {
      "cell_type": "markdown",
      "source": [
        "## 9. Degree column\n",
        "\n",
        "It will tell us if the company has any experience credits for Masters or a Ph.D. degree."
      ],
      "metadata": {
        "id": "P4FDKolQSlMC"
      },
      "id": "P4FDKolQSlMC"
    },
    {
      "cell_type": "code",
      "source": [
        "df[\"Job Description\"][0]"
      ],
      "metadata": {
        "colab": {
          "base_uri": "https://localhost:8080/",
          "height": 192
        },
        "id": "MEcDg1FxTTah",
        "outputId": "1fda5b26-4355-47a8-f77b-823a0d8b58a9"
      },
      "id": "MEcDg1FxTTah",
      "execution_count": 68,
      "outputs": [
        {
          "output_type": "execute_result",
          "data": {
            "application/vnd.google.colaboratory.intrinsic+json": {
              "type": "string"
            },
            "text/plain": [
              "'Data Scientist\\nLocation: Albuquerque, NM\\nEducation Required: Bachelor’s degree required, preferably in math, engineering, business, or the sciences.\\nSkills Required:\\nBachelor’s Degree in relevant field, e.g., math, data analysis, database, computer science, Artificial Intelligence (AI); three years’ experience credit for Master’s degree; five years’ experience credit for a Ph.D\\nApplicant should be proficient in the use of Power BI, Tableau, Python, MATLAB, Microsoft Word, PowerPoint, Excel, and working knowledge of MS Access, LMS, SAS, data visualization tools, and have a strong algorithmic aptitude\\nExcellent verbal and written communication skills, and quantitative analytical skills are required\\nApplicant must be able to work in a team environment\\nU.S. citizenship and ability to obtain a DoD Secret Clearance required\\nResponsibilities: The applicant will be responsible for formulating analytical solutions to complex data problems; creating data analytic models to improve data metrics; analyzing customer behavior and trends; delivering insights to stakeholders, as well as designing and crafting reports, dashboards, models, and algorithms to make data insights actionable; selecting features, building and optimizing classifiers using machine learning techniques; data mining using state-of-the-art methods, extending organization’s data with third party sources of information when needed; enhancing data collection procedures to include information that is relevant for building analytic systems; processing, cleansing, and verifying the integrity of data used for analysis; doing ad-hoc analysis and presenting results in a clear manner; and creating automated anomaly detection systems and constant tracking of its performance.\\nBenefits:\\nWe offer competitive salaries commensurate with education and experience. We have an excellent benefits package that includes:\\nComprehensive health, dental, life, long and short term disability insurance\\n100% Company funded Retirement Plans\\nGenerous vacation, holiday and sick pay plans\\nTuition assistance\\n\\nBenefits are provided to employees regularly working a minimum of 30 hours per week.\\n\\nTecolote Research is a private, employee-owned corporation where people are our primary resource. Our investments in technology and training give our employees the tools to ensure our clients are provided the solutions they need, and our very high employee retention rate and stable workforce is an added value to our customers. Apply now to connect with a company that invests in you.'"
            ]
          },
          "metadata": {},
          "execution_count": 68
        }
      ]
    },
    {
      "cell_type": "code",
      "source": [
        "#This function looks for the education degree (Maters or PhD) experience credits in the Job Description column.\n",
        "def education_credit(degree):\n",
        "    if 'master' in degree.lower() or 'masters' in degree.lower() or \"master's\" in degree.lower():\n",
        "        return 'M'\n",
        "    elif 'phd' in degree.lower() or 'ph.d' in degree.lower():\n",
        "        return 'P'\n",
        "    else:\n",
        "        return 'na'"
      ],
      "metadata": {
        "id": "oXSOM7xgS4A9"
      },
      "id": "oXSOM7xgS4A9",
      "execution_count": 72,
      "outputs": []
    },
    {
      "cell_type": "code",
      "source": [
        "df['Degree'] = df['Job Description'].apply(education_credit)\n",
        "df.Degree.value_counts()"
      ],
      "metadata": {
        "colab": {
          "base_uri": "https://localhost:8080/"
        },
        "id": "bFaD4UUiaQC8",
        "outputId": "487e6eff-d9b7-476a-b8ee-acbcb30acadc"
      },
      "id": "bFaD4UUiaQC8",
      "execution_count": 73,
      "outputs": [
        {
          "output_type": "execute_result",
          "data": {
            "text/plain": [
              "na    383\n",
              "M     252\n",
              "P     107\n",
              "Name: Degree, dtype: int64"
            ]
          },
          "metadata": {},
          "execution_count": 73
        }
      ]
    },
    {
      "cell_type": "markdown",
      "source": [
        "A good number (48%) of companies give experience credits for Masters or PhD degree."
      ],
      "metadata": {
        "id": "XqzGY6oOa3rk"
      },
      "id": "XqzGY6oOa3rk"
    },
    {
      "cell_type": "code",
      "source": [
        "#We are done with the data cleaning. Lets export the adataset into another csv file.\n",
        "df_out=df\n",
        "#df_out.to_csv('data_cleaned_2020.csv',index=False)\n",
        "df_out.to_csv('data_cleaned_2021.csv',index=False)\n",
        "\n",
        "#Checking if the database was exported correctly:\n",
        "#pd.read_csv('data_cleaned_2020.csv')"
      ],
      "metadata": {
        "id": "kXeXTevRxxDg"
      },
      "id": "kXeXTevRxxDg",
      "execution_count": 74,
      "outputs": []
    },
    {
      "cell_type": "code",
      "source": [
        ""
      ],
      "metadata": {
        "id": "T6NNjCQ5bUin"
      },
      "id": "T6NNjCQ5bUin",
      "execution_count": null,
      "outputs": []
    }
  ],
  "metadata": {
    "kernelspec": {
      "display_name": "Python 3 (ipykernel)",
      "language": "python",
      "name": "python3"
    },
    "language_info": {
      "codemirror_mode": {
        "name": "ipython",
        "version": 3
      },
      "file_extension": ".py",
      "mimetype": "text/x-python",
      "name": "python",
      "nbconvert_exporter": "python",
      "pygments_lexer": "ipython3",
      "version": "3.8.8"
    },
    "colab": {
      "name": "Glassdoor_DS_cleaning.ipynb",
      "provenance": [],
      "collapsed_sections": []
    }
  },
  "nbformat": 4,
  "nbformat_minor": 5
}